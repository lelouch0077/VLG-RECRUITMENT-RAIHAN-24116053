{
 "cells": [
  {
   "cell_type": "code",
   "execution_count": 1,
   "id": "b4b3101e",
   "metadata": {
    "_cell_guid": "b1076dfc-b9ad-4769-8c92-a6c4dae69d19",
    "_uuid": "8f2839f25d086af736a60e9eeb907d3b93b6e0e5",
    "execution": {
     "iopub.execute_input": "2025-01-07T18:44:36.847297Z",
     "iopub.status.busy": "2025-01-07T18:44:36.847003Z",
     "iopub.status.idle": "2025-01-07T18:44:42.023073Z",
     "shell.execute_reply": "2025-01-07T18:44:42.022326Z"
    },
    "papermill": {
     "duration": 5.182982,
     "end_time": "2025-01-07T18:44:42.024708",
     "exception": false,
     "start_time": "2025-01-07T18:44:36.841726",
     "status": "completed"
    },
    "tags": []
   },
   "outputs": [],
   "source": [
    "import torch\n",
    "import torch.nn as nn\n",
    "import torch.nn.functional as F\n",
    "import torch.optim as optim\n",
    "import numpy as np\n",
    "import torchvision\n",
    "import torchvision.transforms as transforms\n",
    "import os\n",
    "import pandas as pd\n",
    "from torchvision.datasets import ImageFolder\n",
    "from torch.utils.data import DataLoader\n",
    "from torchvision import models\n",
    "from PIL import Image"
   ]
  },
  {
   "cell_type": "code",
   "execution_count": 2,
   "id": "65f99cde",
   "metadata": {
    "execution": {
     "iopub.execute_input": "2025-01-07T18:44:42.034384Z",
     "iopub.status.busy": "2025-01-07T18:44:42.034001Z",
     "iopub.status.idle": "2025-01-07T18:44:42.037287Z",
     "shell.execute_reply": "2025-01-07T18:44:42.036592Z"
    },
    "papermill": {
     "duration": 0.009614,
     "end_time": "2025-01-07T18:44:42.038632",
     "exception": false,
     "start_time": "2025-01-07T18:44:42.029018",
     "status": "completed"
    },
    "tags": []
   },
   "outputs": [],
   "source": [
    "train_dir = \"/kaggle/input/vlg-recruitment-24-challenge/vlg-dataset/train\"\n",
    "test_dir = \"/kaggle/input/vlg-recruitment-24-challenge/vlg-dataset/test\""
   ]
  },
  {
   "cell_type": "code",
   "execution_count": 3,
   "id": "c990994b",
   "metadata": {
    "execution": {
     "iopub.execute_input": "2025-01-07T18:44:42.050860Z",
     "iopub.status.busy": "2025-01-07T18:44:42.050401Z",
     "iopub.status.idle": "2025-01-07T18:44:42.107101Z",
     "shell.execute_reply": "2025-01-07T18:44:42.106097Z"
    },
    "papermill": {
     "duration": 0.065608,
     "end_time": "2025-01-07T18:44:42.108969",
     "exception": false,
     "start_time": "2025-01-07T18:44:42.043361",
     "status": "completed"
    },
    "tags": []
   },
   "outputs": [
    {
     "name": "stdout",
     "output_type": "stream",
     "text": [
      "cuda\n"
     ]
    }
   ],
   "source": [
    "def get_default_device():\n",
    "    \"\"\"Pick GPU if available, else CPU\"\"\"\n",
    "    if torch.cuda.is_available():\n",
    "        return torch.device('cuda')\n",
    "    else:\n",
    "        return torch.device('cpu')\n",
    "device=get_default_device()\n",
    "print(device)\n",
    "def to_device(data, device):\n",
    "    \"\"\"Move tensor(s) to chosen device\"\"\"\n",
    "    if isinstance(data, (list,tuple)):\n",
    "        return [to_device(x, device) for x in data]\n",
    "    return (data.to(device, non_blocking=True))"
   ]
  },
  {
   "cell_type": "code",
   "execution_count": 4,
   "id": "90bfc87d",
   "metadata": {
    "execution": {
     "iopub.execute_input": "2025-01-07T18:44:42.122595Z",
     "iopub.status.busy": "2025-01-07T18:44:42.122313Z",
     "iopub.status.idle": "2025-01-07T18:44:49.004859Z",
     "shell.execute_reply": "2025-01-07T18:44:49.003839Z"
    },
    "papermill": {
     "duration": 6.888774,
     "end_time": "2025-01-07T18:44:49.006225",
     "exception": false,
     "start_time": "2025-01-07T18:44:42.117451",
     "status": "completed"
    },
    "tags": []
   },
   "outputs": [
    {
     "name": "stdout",
     "output_type": "stream",
     "text": [
      "Class to Index Mapping: {'antelope': 0, 'bat': 1, 'beaver': 2, 'blue+whale': 3, 'bobcat': 4, 'buffalo': 5, 'chihuahua': 6, 'cow': 7, 'dalmatian': 8, 'deer': 9, 'dolphin': 10, 'elephant': 11, 'german+shepherd': 12, 'giant+panda': 13, 'giraffe': 14, 'grizzly+bear': 15, 'hamster': 16, 'hippopotamus': 17, 'humpback+whale': 18, 'killer+whale': 19, 'leopard': 20, 'lion': 21, 'mole': 22, 'mouse': 23, 'otter': 24, 'ox': 25, 'persian+cat': 26, 'pig': 27, 'polar+bear': 28, 'raccoon': 29, 'rat': 30, 'seal': 31, 'siamese+cat': 32, 'skunk': 33, 'spider+monkey': 34, 'tiger': 35, 'walrus': 36, 'weasel': 37, 'wolf': 38, 'zebra': 39}\n"
     ]
    }
   ],
   "source": [
    "# Data Preprocessing\n",
    "transform = transforms.Compose([\n",
    "    transforms.Resize((224, 224)),\n",
    "    transforms.ToTensor(),\n",
    "    transforms.RandomVerticalFlip(p=0.5),\n",
    "    transforms.RandomHorizontalFlip(p=0.5),\n",
    "    transforms.Normalize(mean=[0.485, 0.456, 0.406], std=[0.229, 0.224, 0.225])\n",
    "])\n",
    "\n",
    "train_dataset = ImageFolder(root=train_dir, transform=transform)\n",
    "train_loader = DataLoader(train_dataset, batch_size=32, shuffle=True,num_workers=2)\n",
    "\n",
    "# Validate Class to Index Mapping\n",
    "print(\"Class to Index Mapping:\", train_dataset.class_to_idx)"
   ]
  },
  {
   "cell_type": "code",
   "execution_count": 5,
   "id": "667d9c06",
   "metadata": {
    "execution": {
     "iopub.execute_input": "2025-01-07T18:44:49.014305Z",
     "iopub.status.busy": "2025-01-07T18:44:49.014049Z",
     "iopub.status.idle": "2025-01-07T18:44:49.018405Z",
     "shell.execute_reply": "2025-01-07T18:44:49.017561Z"
    },
    "papermill": {
     "duration": 0.009731,
     "end_time": "2025-01-07T18:44:49.019681",
     "exception": false,
     "start_time": "2025-01-07T18:44:49.009950",
     "status": "completed"
    },
    "tags": []
   },
   "outputs": [],
   "source": [
    "class DeviceDataLoader():\n",
    "  def __init__(self,dl,device):\n",
    "    self.dl=dl\n",
    "    self.device=device\n",
    "  def __iter__(self):\n",
    "    for b in self.dl:\n",
    "      yield to_device(b,self.device)\n",
    "train_loader=DeviceDataLoader(train_loader,device)"
   ]
  },
  {
   "cell_type": "code",
   "execution_count": 6,
   "id": "fc5ab089",
   "metadata": {
    "execution": {
     "iopub.execute_input": "2025-01-07T18:44:49.027368Z",
     "iopub.status.busy": "2025-01-07T18:44:49.027129Z",
     "iopub.status.idle": "2025-01-07T18:44:49.031743Z",
     "shell.execute_reply": "2025-01-07T18:44:49.030921Z"
    },
    "papermill": {
     "duration": 0.009869,
     "end_time": "2025-01-07T18:44:49.033065",
     "exception": false,
     "start_time": "2025-01-07T18:44:49.023196",
     "status": "completed"
    },
    "tags": []
   },
   "outputs": [],
   "source": [
    "class conv_block(nn.Module):\n",
    "    def __init__(self, in_channels, out_channels, **kwargs):\n",
    "        super(conv_block, self).__init__()\n",
    "        self.relu = nn.ReLU()\n",
    "        self.conv = nn.Conv2d(in_channels, out_channels, **kwargs)\n",
    "        self.batchnorm = nn.BatchNorm2d(out_channels)\n",
    "\n",
    "    def forward(self, x):\n",
    "        return self.relu(self.batchnorm(self.conv(x)))\n"
   ]
  },
  {
   "cell_type": "code",
   "execution_count": 7,
   "id": "26dceaea",
   "metadata": {
    "execution": {
     "iopub.execute_input": "2025-01-07T18:44:49.040837Z",
     "iopub.status.busy": "2025-01-07T18:44:49.040604Z",
     "iopub.status.idle": "2025-01-07T18:44:49.046010Z",
     "shell.execute_reply": "2025-01-07T18:44:49.045348Z"
    },
    "papermill": {
     "duration": 0.010675,
     "end_time": "2025-01-07T18:44:49.047193",
     "exception": false,
     "start_time": "2025-01-07T18:44:49.036518",
     "status": "completed"
    },
    "tags": []
   },
   "outputs": [],
   "source": [
    "class Inception_block(nn.Module):\n",
    "    def __init__(\n",
    "        self, in_channels, out_1x1, red_3x3, out_3x3, red_5x5, out_5x5, out_1x1pool\n",
    "    ):\n",
    "        super(Inception_block, self).__init__()\n",
    "        self.branch1 = conv_block(in_channels, out_1x1, kernel_size=1)\n",
    "\n",
    "        self.branch2 = nn.Sequential(\n",
    "            conv_block(in_channels, red_3x3, kernel_size=1),\n",
    "            conv_block(red_3x3, out_3x3, kernel_size=(3, 3), padding=1),\n",
    "        )\n",
    "\n",
    "        self.branch3 = nn.Sequential(\n",
    "            conv_block(in_channels, red_5x5, kernel_size=1),\n",
    "            conv_block(red_5x5, out_5x5, kernel_size=5, padding=2),\n",
    "        )\n",
    "\n",
    "        self.branch4 = nn.Sequential(\n",
    "            nn.MaxPool2d(kernel_size=3, stride=1, padding=1),\n",
    "            conv_block(in_channels, out_1x1pool, kernel_size=1),\n",
    "        )\n",
    "\n",
    "    def forward(self, x):\n",
    "        return torch.cat(\n",
    "            [self.branch1(x), self.branch2(x), self.branch3(x), self.branch4(x)], 1\n",
    "        )"
   ]
  },
  {
   "cell_type": "code",
   "execution_count": 8,
   "id": "c98627f3",
   "metadata": {
    "execution": {
     "iopub.execute_input": "2025-01-07T18:44:49.054679Z",
     "iopub.status.busy": "2025-01-07T18:44:49.054444Z",
     "iopub.status.idle": "2025-01-07T18:44:49.062729Z",
     "shell.execute_reply": "2025-01-07T18:44:49.062099Z"
    },
    "papermill": {
     "duration": 0.013353,
     "end_time": "2025-01-07T18:44:49.063943",
     "exception": false,
     "start_time": "2025-01-07T18:44:49.050590",
     "status": "completed"
    },
    "tags": []
   },
   "outputs": [],
   "source": [
    "class GoogLeNet(nn.Module):\n",
    "    def __init__(self, num_classes=40):\n",
    "        super(GoogLeNet, self).__init__()\n",
    "        self.conv1 = conv_block(\n",
    "            in_channels=3,\n",
    "            out_channels=64,\n",
    "            kernel_size=7,\n",
    "            stride=2,\n",
    "            padding=3,\n",
    "        )\n",
    "\n",
    "        self.maxpool1 = nn.MaxPool2d(kernel_size=3, stride=2, padding=1)\n",
    "        self.conv2 = conv_block(64, 192, kernel_size=3, stride=1, padding=1)\n",
    "        self.maxpool2 = nn.MaxPool2d(kernel_size=3, stride=2, padding=1)\n",
    "\n",
    "        # In this order: in_channels, out_1x1, red_3x3, out_3x3, red_5x5, out_5x5, out_1x1pool\n",
    "        self.inception3a = Inception_block(192, 64, 96, 128, 16, 32, 32)\n",
    "        self.inception3b = Inception_block(256, 128, 128, 192, 32, 96, 64)\n",
    "        self.maxpool3 = nn.MaxPool2d(kernel_size=3, stride=2, padding=1)\n",
    "\n",
    "        self.inception4a = Inception_block(480, 192, 96, 208, 16, 48, 64)\n",
    "        self.inception4b = Inception_block(512, 160, 112, 224, 24, 64, 64)\n",
    "        self.inception4c = Inception_block(512, 128, 128, 256, 24, 64, 64)\n",
    "        self.inception4d = Inception_block(512, 112, 144, 288, 32, 64, 64)\n",
    "        self.inception4e = Inception_block(528, 256, 160, 320, 32, 128, 128)\n",
    "        self.maxpool4 = nn.MaxPool2d(kernel_size=3, stride=2, padding=1)\n",
    "\n",
    "        self.inception5a = Inception_block(832, 256, 160, 320, 32, 128, 128)\n",
    "        self.inception5b = Inception_block(832, 384, 192, 384, 48, 128, 128)\n",
    "\n",
    "        self.avgpool = nn.AvgPool2d(kernel_size=7, stride=1)\n",
    "        self.dropout = nn.Dropout(p=0.4)\n",
    "        self.fc1 = nn.Linear(1024, num_classes)\n",
    "    def forward(self,x):\n",
    "        x=self.conv1(x)\n",
    "        x=self.maxpool1(x)\n",
    "        x=self.conv2(x)\n",
    "        x=self.maxpool2(x)\n",
    "\n",
    "        x=self.inception3a(x)\n",
    "        x=self.inception3b(x)\n",
    "        x=self.maxpool3(x)\n",
    "\n",
    "        x=self.inception4a(x)\n",
    "        x=self.inception4b(x)\n",
    "        x=self.inception4c(x)\n",
    "        x=self.inception4d(x)\n",
    "        x=self.inception4e(x)\n",
    "        x=self.maxpool4(x)\n",
    "        \n",
    "        x=self.inception5a(x)\n",
    "        x=self.inception5b(x)\n",
    "        x=self.avgpool(x)\n",
    "        x=self.dropout(x)\n",
    "        x = x.view(x.size(0), -1)\n",
    "        x=self.fc1(x)\n",
    "        return x\n",
    "        \n"
   ]
  },
  {
   "cell_type": "code",
   "execution_count": 9,
   "id": "738ece2d",
   "metadata": {
    "execution": {
     "iopub.execute_input": "2025-01-07T18:44:49.071420Z",
     "iopub.status.busy": "2025-01-07T18:44:49.071217Z",
     "iopub.status.idle": "2025-01-07T18:44:49.387107Z",
     "shell.execute_reply": "2025-01-07T18:44:49.386255Z"
    },
    "papermill": {
     "duration": 0.32103,
     "end_time": "2025-01-07T18:44:49.388369",
     "exception": false,
     "start_time": "2025-01-07T18:44:49.067339",
     "status": "completed"
    },
    "tags": []
   },
   "outputs": [
    {
     "data": {
      "text/plain": [
       "GoogLeNet(\n",
       "  (conv1): conv_block(\n",
       "    (relu): ReLU()\n",
       "    (conv): Conv2d(3, 64, kernel_size=(7, 7), stride=(2, 2), padding=(3, 3))\n",
       "    (batchnorm): BatchNorm2d(64, eps=1e-05, momentum=0.1, affine=True, track_running_stats=True)\n",
       "  )\n",
       "  (maxpool1): MaxPool2d(kernel_size=3, stride=2, padding=1, dilation=1, ceil_mode=False)\n",
       "  (conv2): conv_block(\n",
       "    (relu): ReLU()\n",
       "    (conv): Conv2d(64, 192, kernel_size=(3, 3), stride=(1, 1), padding=(1, 1))\n",
       "    (batchnorm): BatchNorm2d(192, eps=1e-05, momentum=0.1, affine=True, track_running_stats=True)\n",
       "  )\n",
       "  (maxpool2): MaxPool2d(kernel_size=3, stride=2, padding=1, dilation=1, ceil_mode=False)\n",
       "  (inception3a): Inception_block(\n",
       "    (branch1): conv_block(\n",
       "      (relu): ReLU()\n",
       "      (conv): Conv2d(192, 64, kernel_size=(1, 1), stride=(1, 1))\n",
       "      (batchnorm): BatchNorm2d(64, eps=1e-05, momentum=0.1, affine=True, track_running_stats=True)\n",
       "    )\n",
       "    (branch2): Sequential(\n",
       "      (0): conv_block(\n",
       "        (relu): ReLU()\n",
       "        (conv): Conv2d(192, 96, kernel_size=(1, 1), stride=(1, 1))\n",
       "        (batchnorm): BatchNorm2d(96, eps=1e-05, momentum=0.1, affine=True, track_running_stats=True)\n",
       "      )\n",
       "      (1): conv_block(\n",
       "        (relu): ReLU()\n",
       "        (conv): Conv2d(96, 128, kernel_size=(3, 3), stride=(1, 1), padding=(1, 1))\n",
       "        (batchnorm): BatchNorm2d(128, eps=1e-05, momentum=0.1, affine=True, track_running_stats=True)\n",
       "      )\n",
       "    )\n",
       "    (branch3): Sequential(\n",
       "      (0): conv_block(\n",
       "        (relu): ReLU()\n",
       "        (conv): Conv2d(192, 16, kernel_size=(1, 1), stride=(1, 1))\n",
       "        (batchnorm): BatchNorm2d(16, eps=1e-05, momentum=0.1, affine=True, track_running_stats=True)\n",
       "      )\n",
       "      (1): conv_block(\n",
       "        (relu): ReLU()\n",
       "        (conv): Conv2d(16, 32, kernel_size=(5, 5), stride=(1, 1), padding=(2, 2))\n",
       "        (batchnorm): BatchNorm2d(32, eps=1e-05, momentum=0.1, affine=True, track_running_stats=True)\n",
       "      )\n",
       "    )\n",
       "    (branch4): Sequential(\n",
       "      (0): MaxPool2d(kernel_size=3, stride=1, padding=1, dilation=1, ceil_mode=False)\n",
       "      (1): conv_block(\n",
       "        (relu): ReLU()\n",
       "        (conv): Conv2d(192, 32, kernel_size=(1, 1), stride=(1, 1))\n",
       "        (batchnorm): BatchNorm2d(32, eps=1e-05, momentum=0.1, affine=True, track_running_stats=True)\n",
       "      )\n",
       "    )\n",
       "  )\n",
       "  (inception3b): Inception_block(\n",
       "    (branch1): conv_block(\n",
       "      (relu): ReLU()\n",
       "      (conv): Conv2d(256, 128, kernel_size=(1, 1), stride=(1, 1))\n",
       "      (batchnorm): BatchNorm2d(128, eps=1e-05, momentum=0.1, affine=True, track_running_stats=True)\n",
       "    )\n",
       "    (branch2): Sequential(\n",
       "      (0): conv_block(\n",
       "        (relu): ReLU()\n",
       "        (conv): Conv2d(256, 128, kernel_size=(1, 1), stride=(1, 1))\n",
       "        (batchnorm): BatchNorm2d(128, eps=1e-05, momentum=0.1, affine=True, track_running_stats=True)\n",
       "      )\n",
       "      (1): conv_block(\n",
       "        (relu): ReLU()\n",
       "        (conv): Conv2d(128, 192, kernel_size=(3, 3), stride=(1, 1), padding=(1, 1))\n",
       "        (batchnorm): BatchNorm2d(192, eps=1e-05, momentum=0.1, affine=True, track_running_stats=True)\n",
       "      )\n",
       "    )\n",
       "    (branch3): Sequential(\n",
       "      (0): conv_block(\n",
       "        (relu): ReLU()\n",
       "        (conv): Conv2d(256, 32, kernel_size=(1, 1), stride=(1, 1))\n",
       "        (batchnorm): BatchNorm2d(32, eps=1e-05, momentum=0.1, affine=True, track_running_stats=True)\n",
       "      )\n",
       "      (1): conv_block(\n",
       "        (relu): ReLU()\n",
       "        (conv): Conv2d(32, 96, kernel_size=(5, 5), stride=(1, 1), padding=(2, 2))\n",
       "        (batchnorm): BatchNorm2d(96, eps=1e-05, momentum=0.1, affine=True, track_running_stats=True)\n",
       "      )\n",
       "    )\n",
       "    (branch4): Sequential(\n",
       "      (0): MaxPool2d(kernel_size=3, stride=1, padding=1, dilation=1, ceil_mode=False)\n",
       "      (1): conv_block(\n",
       "        (relu): ReLU()\n",
       "        (conv): Conv2d(256, 64, kernel_size=(1, 1), stride=(1, 1))\n",
       "        (batchnorm): BatchNorm2d(64, eps=1e-05, momentum=0.1, affine=True, track_running_stats=True)\n",
       "      )\n",
       "    )\n",
       "  )\n",
       "  (maxpool3): MaxPool2d(kernel_size=3, stride=2, padding=1, dilation=1, ceil_mode=False)\n",
       "  (inception4a): Inception_block(\n",
       "    (branch1): conv_block(\n",
       "      (relu): ReLU()\n",
       "      (conv): Conv2d(480, 192, kernel_size=(1, 1), stride=(1, 1))\n",
       "      (batchnorm): BatchNorm2d(192, eps=1e-05, momentum=0.1, affine=True, track_running_stats=True)\n",
       "    )\n",
       "    (branch2): Sequential(\n",
       "      (0): conv_block(\n",
       "        (relu): ReLU()\n",
       "        (conv): Conv2d(480, 96, kernel_size=(1, 1), stride=(1, 1))\n",
       "        (batchnorm): BatchNorm2d(96, eps=1e-05, momentum=0.1, affine=True, track_running_stats=True)\n",
       "      )\n",
       "      (1): conv_block(\n",
       "        (relu): ReLU()\n",
       "        (conv): Conv2d(96, 208, kernel_size=(3, 3), stride=(1, 1), padding=(1, 1))\n",
       "        (batchnorm): BatchNorm2d(208, eps=1e-05, momentum=0.1, affine=True, track_running_stats=True)\n",
       "      )\n",
       "    )\n",
       "    (branch3): Sequential(\n",
       "      (0): conv_block(\n",
       "        (relu): ReLU()\n",
       "        (conv): Conv2d(480, 16, kernel_size=(1, 1), stride=(1, 1))\n",
       "        (batchnorm): BatchNorm2d(16, eps=1e-05, momentum=0.1, affine=True, track_running_stats=True)\n",
       "      )\n",
       "      (1): conv_block(\n",
       "        (relu): ReLU()\n",
       "        (conv): Conv2d(16, 48, kernel_size=(5, 5), stride=(1, 1), padding=(2, 2))\n",
       "        (batchnorm): BatchNorm2d(48, eps=1e-05, momentum=0.1, affine=True, track_running_stats=True)\n",
       "      )\n",
       "    )\n",
       "    (branch4): Sequential(\n",
       "      (0): MaxPool2d(kernel_size=3, stride=1, padding=1, dilation=1, ceil_mode=False)\n",
       "      (1): conv_block(\n",
       "        (relu): ReLU()\n",
       "        (conv): Conv2d(480, 64, kernel_size=(1, 1), stride=(1, 1))\n",
       "        (batchnorm): BatchNorm2d(64, eps=1e-05, momentum=0.1, affine=True, track_running_stats=True)\n",
       "      )\n",
       "    )\n",
       "  )\n",
       "  (inception4b): Inception_block(\n",
       "    (branch1): conv_block(\n",
       "      (relu): ReLU()\n",
       "      (conv): Conv2d(512, 160, kernel_size=(1, 1), stride=(1, 1))\n",
       "      (batchnorm): BatchNorm2d(160, eps=1e-05, momentum=0.1, affine=True, track_running_stats=True)\n",
       "    )\n",
       "    (branch2): Sequential(\n",
       "      (0): conv_block(\n",
       "        (relu): ReLU()\n",
       "        (conv): Conv2d(512, 112, kernel_size=(1, 1), stride=(1, 1))\n",
       "        (batchnorm): BatchNorm2d(112, eps=1e-05, momentum=0.1, affine=True, track_running_stats=True)\n",
       "      )\n",
       "      (1): conv_block(\n",
       "        (relu): ReLU()\n",
       "        (conv): Conv2d(112, 224, kernel_size=(3, 3), stride=(1, 1), padding=(1, 1))\n",
       "        (batchnorm): BatchNorm2d(224, eps=1e-05, momentum=0.1, affine=True, track_running_stats=True)\n",
       "      )\n",
       "    )\n",
       "    (branch3): Sequential(\n",
       "      (0): conv_block(\n",
       "        (relu): ReLU()\n",
       "        (conv): Conv2d(512, 24, kernel_size=(1, 1), stride=(1, 1))\n",
       "        (batchnorm): BatchNorm2d(24, eps=1e-05, momentum=0.1, affine=True, track_running_stats=True)\n",
       "      )\n",
       "      (1): conv_block(\n",
       "        (relu): ReLU()\n",
       "        (conv): Conv2d(24, 64, kernel_size=(5, 5), stride=(1, 1), padding=(2, 2))\n",
       "        (batchnorm): BatchNorm2d(64, eps=1e-05, momentum=0.1, affine=True, track_running_stats=True)\n",
       "      )\n",
       "    )\n",
       "    (branch4): Sequential(\n",
       "      (0): MaxPool2d(kernel_size=3, stride=1, padding=1, dilation=1, ceil_mode=False)\n",
       "      (1): conv_block(\n",
       "        (relu): ReLU()\n",
       "        (conv): Conv2d(512, 64, kernel_size=(1, 1), stride=(1, 1))\n",
       "        (batchnorm): BatchNorm2d(64, eps=1e-05, momentum=0.1, affine=True, track_running_stats=True)\n",
       "      )\n",
       "    )\n",
       "  )\n",
       "  (inception4c): Inception_block(\n",
       "    (branch1): conv_block(\n",
       "      (relu): ReLU()\n",
       "      (conv): Conv2d(512, 128, kernel_size=(1, 1), stride=(1, 1))\n",
       "      (batchnorm): BatchNorm2d(128, eps=1e-05, momentum=0.1, affine=True, track_running_stats=True)\n",
       "    )\n",
       "    (branch2): Sequential(\n",
       "      (0): conv_block(\n",
       "        (relu): ReLU()\n",
       "        (conv): Conv2d(512, 128, kernel_size=(1, 1), stride=(1, 1))\n",
       "        (batchnorm): BatchNorm2d(128, eps=1e-05, momentum=0.1, affine=True, track_running_stats=True)\n",
       "      )\n",
       "      (1): conv_block(\n",
       "        (relu): ReLU()\n",
       "        (conv): Conv2d(128, 256, kernel_size=(3, 3), stride=(1, 1), padding=(1, 1))\n",
       "        (batchnorm): BatchNorm2d(256, eps=1e-05, momentum=0.1, affine=True, track_running_stats=True)\n",
       "      )\n",
       "    )\n",
       "    (branch3): Sequential(\n",
       "      (0): conv_block(\n",
       "        (relu): ReLU()\n",
       "        (conv): Conv2d(512, 24, kernel_size=(1, 1), stride=(1, 1))\n",
       "        (batchnorm): BatchNorm2d(24, eps=1e-05, momentum=0.1, affine=True, track_running_stats=True)\n",
       "      )\n",
       "      (1): conv_block(\n",
       "        (relu): ReLU()\n",
       "        (conv): Conv2d(24, 64, kernel_size=(5, 5), stride=(1, 1), padding=(2, 2))\n",
       "        (batchnorm): BatchNorm2d(64, eps=1e-05, momentum=0.1, affine=True, track_running_stats=True)\n",
       "      )\n",
       "    )\n",
       "    (branch4): Sequential(\n",
       "      (0): MaxPool2d(kernel_size=3, stride=1, padding=1, dilation=1, ceil_mode=False)\n",
       "      (1): conv_block(\n",
       "        (relu): ReLU()\n",
       "        (conv): Conv2d(512, 64, kernel_size=(1, 1), stride=(1, 1))\n",
       "        (batchnorm): BatchNorm2d(64, eps=1e-05, momentum=0.1, affine=True, track_running_stats=True)\n",
       "      )\n",
       "    )\n",
       "  )\n",
       "  (inception4d): Inception_block(\n",
       "    (branch1): conv_block(\n",
       "      (relu): ReLU()\n",
       "      (conv): Conv2d(512, 112, kernel_size=(1, 1), stride=(1, 1))\n",
       "      (batchnorm): BatchNorm2d(112, eps=1e-05, momentum=0.1, affine=True, track_running_stats=True)\n",
       "    )\n",
       "    (branch2): Sequential(\n",
       "      (0): conv_block(\n",
       "        (relu): ReLU()\n",
       "        (conv): Conv2d(512, 144, kernel_size=(1, 1), stride=(1, 1))\n",
       "        (batchnorm): BatchNorm2d(144, eps=1e-05, momentum=0.1, affine=True, track_running_stats=True)\n",
       "      )\n",
       "      (1): conv_block(\n",
       "        (relu): ReLU()\n",
       "        (conv): Conv2d(144, 288, kernel_size=(3, 3), stride=(1, 1), padding=(1, 1))\n",
       "        (batchnorm): BatchNorm2d(288, eps=1e-05, momentum=0.1, affine=True, track_running_stats=True)\n",
       "      )\n",
       "    )\n",
       "    (branch3): Sequential(\n",
       "      (0): conv_block(\n",
       "        (relu): ReLU()\n",
       "        (conv): Conv2d(512, 32, kernel_size=(1, 1), stride=(1, 1))\n",
       "        (batchnorm): BatchNorm2d(32, eps=1e-05, momentum=0.1, affine=True, track_running_stats=True)\n",
       "      )\n",
       "      (1): conv_block(\n",
       "        (relu): ReLU()\n",
       "        (conv): Conv2d(32, 64, kernel_size=(5, 5), stride=(1, 1), padding=(2, 2))\n",
       "        (batchnorm): BatchNorm2d(64, eps=1e-05, momentum=0.1, affine=True, track_running_stats=True)\n",
       "      )\n",
       "    )\n",
       "    (branch4): Sequential(\n",
       "      (0): MaxPool2d(kernel_size=3, stride=1, padding=1, dilation=1, ceil_mode=False)\n",
       "      (1): conv_block(\n",
       "        (relu): ReLU()\n",
       "        (conv): Conv2d(512, 64, kernel_size=(1, 1), stride=(1, 1))\n",
       "        (batchnorm): BatchNorm2d(64, eps=1e-05, momentum=0.1, affine=True, track_running_stats=True)\n",
       "      )\n",
       "    )\n",
       "  )\n",
       "  (inception4e): Inception_block(\n",
       "    (branch1): conv_block(\n",
       "      (relu): ReLU()\n",
       "      (conv): Conv2d(528, 256, kernel_size=(1, 1), stride=(1, 1))\n",
       "      (batchnorm): BatchNorm2d(256, eps=1e-05, momentum=0.1, affine=True, track_running_stats=True)\n",
       "    )\n",
       "    (branch2): Sequential(\n",
       "      (0): conv_block(\n",
       "        (relu): ReLU()\n",
       "        (conv): Conv2d(528, 160, kernel_size=(1, 1), stride=(1, 1))\n",
       "        (batchnorm): BatchNorm2d(160, eps=1e-05, momentum=0.1, affine=True, track_running_stats=True)\n",
       "      )\n",
       "      (1): conv_block(\n",
       "        (relu): ReLU()\n",
       "        (conv): Conv2d(160, 320, kernel_size=(3, 3), stride=(1, 1), padding=(1, 1))\n",
       "        (batchnorm): BatchNorm2d(320, eps=1e-05, momentum=0.1, affine=True, track_running_stats=True)\n",
       "      )\n",
       "    )\n",
       "    (branch3): Sequential(\n",
       "      (0): conv_block(\n",
       "        (relu): ReLU()\n",
       "        (conv): Conv2d(528, 32, kernel_size=(1, 1), stride=(1, 1))\n",
       "        (batchnorm): BatchNorm2d(32, eps=1e-05, momentum=0.1, affine=True, track_running_stats=True)\n",
       "      )\n",
       "      (1): conv_block(\n",
       "        (relu): ReLU()\n",
       "        (conv): Conv2d(32, 128, kernel_size=(5, 5), stride=(1, 1), padding=(2, 2))\n",
       "        (batchnorm): BatchNorm2d(128, eps=1e-05, momentum=0.1, affine=True, track_running_stats=True)\n",
       "      )\n",
       "    )\n",
       "    (branch4): Sequential(\n",
       "      (0): MaxPool2d(kernel_size=3, stride=1, padding=1, dilation=1, ceil_mode=False)\n",
       "      (1): conv_block(\n",
       "        (relu): ReLU()\n",
       "        (conv): Conv2d(528, 128, kernel_size=(1, 1), stride=(1, 1))\n",
       "        (batchnorm): BatchNorm2d(128, eps=1e-05, momentum=0.1, affine=True, track_running_stats=True)\n",
       "      )\n",
       "    )\n",
       "  )\n",
       "  (maxpool4): MaxPool2d(kernel_size=3, stride=2, padding=1, dilation=1, ceil_mode=False)\n",
       "  (inception5a): Inception_block(\n",
       "    (branch1): conv_block(\n",
       "      (relu): ReLU()\n",
       "      (conv): Conv2d(832, 256, kernel_size=(1, 1), stride=(1, 1))\n",
       "      (batchnorm): BatchNorm2d(256, eps=1e-05, momentum=0.1, affine=True, track_running_stats=True)\n",
       "    )\n",
       "    (branch2): Sequential(\n",
       "      (0): conv_block(\n",
       "        (relu): ReLU()\n",
       "        (conv): Conv2d(832, 160, kernel_size=(1, 1), stride=(1, 1))\n",
       "        (batchnorm): BatchNorm2d(160, eps=1e-05, momentum=0.1, affine=True, track_running_stats=True)\n",
       "      )\n",
       "      (1): conv_block(\n",
       "        (relu): ReLU()\n",
       "        (conv): Conv2d(160, 320, kernel_size=(3, 3), stride=(1, 1), padding=(1, 1))\n",
       "        (batchnorm): BatchNorm2d(320, eps=1e-05, momentum=0.1, affine=True, track_running_stats=True)\n",
       "      )\n",
       "    )\n",
       "    (branch3): Sequential(\n",
       "      (0): conv_block(\n",
       "        (relu): ReLU()\n",
       "        (conv): Conv2d(832, 32, kernel_size=(1, 1), stride=(1, 1))\n",
       "        (batchnorm): BatchNorm2d(32, eps=1e-05, momentum=0.1, affine=True, track_running_stats=True)\n",
       "      )\n",
       "      (1): conv_block(\n",
       "        (relu): ReLU()\n",
       "        (conv): Conv2d(32, 128, kernel_size=(5, 5), stride=(1, 1), padding=(2, 2))\n",
       "        (batchnorm): BatchNorm2d(128, eps=1e-05, momentum=0.1, affine=True, track_running_stats=True)\n",
       "      )\n",
       "    )\n",
       "    (branch4): Sequential(\n",
       "      (0): MaxPool2d(kernel_size=3, stride=1, padding=1, dilation=1, ceil_mode=False)\n",
       "      (1): conv_block(\n",
       "        (relu): ReLU()\n",
       "        (conv): Conv2d(832, 128, kernel_size=(1, 1), stride=(1, 1))\n",
       "        (batchnorm): BatchNorm2d(128, eps=1e-05, momentum=0.1, affine=True, track_running_stats=True)\n",
       "      )\n",
       "    )\n",
       "  )\n",
       "  (inception5b): Inception_block(\n",
       "    (branch1): conv_block(\n",
       "      (relu): ReLU()\n",
       "      (conv): Conv2d(832, 384, kernel_size=(1, 1), stride=(1, 1))\n",
       "      (batchnorm): BatchNorm2d(384, eps=1e-05, momentum=0.1, affine=True, track_running_stats=True)\n",
       "    )\n",
       "    (branch2): Sequential(\n",
       "      (0): conv_block(\n",
       "        (relu): ReLU()\n",
       "        (conv): Conv2d(832, 192, kernel_size=(1, 1), stride=(1, 1))\n",
       "        (batchnorm): BatchNorm2d(192, eps=1e-05, momentum=0.1, affine=True, track_running_stats=True)\n",
       "      )\n",
       "      (1): conv_block(\n",
       "        (relu): ReLU()\n",
       "        (conv): Conv2d(192, 384, kernel_size=(3, 3), stride=(1, 1), padding=(1, 1))\n",
       "        (batchnorm): BatchNorm2d(384, eps=1e-05, momentum=0.1, affine=True, track_running_stats=True)\n",
       "      )\n",
       "    )\n",
       "    (branch3): Sequential(\n",
       "      (0): conv_block(\n",
       "        (relu): ReLU()\n",
       "        (conv): Conv2d(832, 48, kernel_size=(1, 1), stride=(1, 1))\n",
       "        (batchnorm): BatchNorm2d(48, eps=1e-05, momentum=0.1, affine=True, track_running_stats=True)\n",
       "      )\n",
       "      (1): conv_block(\n",
       "        (relu): ReLU()\n",
       "        (conv): Conv2d(48, 128, kernel_size=(5, 5), stride=(1, 1), padding=(2, 2))\n",
       "        (batchnorm): BatchNorm2d(128, eps=1e-05, momentum=0.1, affine=True, track_running_stats=True)\n",
       "      )\n",
       "    )\n",
       "    (branch4): Sequential(\n",
       "      (0): MaxPool2d(kernel_size=3, stride=1, padding=1, dilation=1, ceil_mode=False)\n",
       "      (1): conv_block(\n",
       "        (relu): ReLU()\n",
       "        (conv): Conv2d(832, 128, kernel_size=(1, 1), stride=(1, 1))\n",
       "        (batchnorm): BatchNorm2d(128, eps=1e-05, momentum=0.1, affine=True, track_running_stats=True)\n",
       "      )\n",
       "    )\n",
       "  )\n",
       "  (avgpool): AvgPool2d(kernel_size=7, stride=1, padding=0)\n",
       "  (dropout): Dropout(p=0.4, inplace=False)\n",
       "  (fc1): Linear(in_features=1024, out_features=40, bias=True)\n",
       ")"
      ]
     },
     "execution_count": 9,
     "metadata": {},
     "output_type": "execute_result"
    }
   ],
   "source": [
    "model=GoogLeNet()\n",
    "model.to(device)"
   ]
  },
  {
   "cell_type": "code",
   "execution_count": 10,
   "id": "c8c80798",
   "metadata": {
    "execution": {
     "iopub.execute_input": "2025-01-07T18:44:49.397038Z",
     "iopub.status.busy": "2025-01-07T18:44:49.396782Z",
     "iopub.status.idle": "2025-01-07T18:44:49.401178Z",
     "shell.execute_reply": "2025-01-07T18:44:49.400428Z"
    },
    "papermill": {
     "duration": 0.009893,
     "end_time": "2025-01-07T18:44:49.402365",
     "exception": false,
     "start_time": "2025-01-07T18:44:49.392472",
     "status": "completed"
    },
    "tags": []
   },
   "outputs": [],
   "source": [
    "def loss_batch(model,loss_func,xb,yb,opt=None,metric=None):\n",
    "    preds=model(xb)\n",
    "    loss=loss_func(preds,yb)\n",
    "    if opt is not None:\n",
    "        loss.backward()\n",
    "        opt.step()\n",
    "        opt.zero_grad()\n",
    "    metric_batch=None\n",
    "    if metric is not None:\n",
    "        metric_batch=metric(preds,yb)\n",
    "    else:\n",
    "      metric_batch=None\n",
    "    return loss.item(),len(xb),metric_batch"
   ]
  },
  {
   "cell_type": "code",
   "execution_count": 11,
   "id": "65e37142",
   "metadata": {
    "execution": {
     "iopub.execute_input": "2025-01-07T18:44:49.410850Z",
     "iopub.status.busy": "2025-01-07T18:44:49.410607Z",
     "iopub.status.idle": "2025-01-07T18:44:49.414260Z",
     "shell.execute_reply": "2025-01-07T18:44:49.413468Z"
    },
    "papermill": {
     "duration": 0.009304,
     "end_time": "2025-01-07T18:44:49.415576",
     "exception": false,
     "start_time": "2025-01-07T18:44:49.406272",
     "status": "completed"
    },
    "tags": []
   },
   "outputs": [],
   "source": [
    "def accuracy(outputs,labels):\n",
    "    _,preds=torch.max(outputs,dim=1)\n",
    "    return torch.tensor(torch.sum(preds==labels).item()/len(preds))"
   ]
  },
  {
   "cell_type": "code",
   "execution_count": 12,
   "id": "ae5a54d0",
   "metadata": {
    "execution": {
     "iopub.execute_input": "2025-01-07T18:44:49.423848Z",
     "iopub.status.busy": "2025-01-07T18:44:49.423615Z",
     "iopub.status.idle": "2025-01-07T18:44:49.428365Z",
     "shell.execute_reply": "2025-01-07T18:44:49.427576Z"
    },
    "papermill": {
     "duration": 0.010323,
     "end_time": "2025-01-07T18:44:49.429653",
     "exception": false,
     "start_time": "2025-01-07T18:44:49.419330",
     "status": "completed"
    },
    "tags": []
   },
   "outputs": [],
   "source": [
    "def evaluate(model,loss_func,valid_dl,metric=None):\n",
    "  model.eval()\n",
    "  with torch.no_grad():\n",
    "    results=[loss_batch(model,loss_func,xb,yb,metric=metric) for xb,yb in valid_dl]\n",
    "    losses,nums,metric_list=zip(*results)\n",
    "    total=np.sum(nums)\n",
    "    avg_loss=np.sum(np.multiply(losses,nums))/total\n",
    "    metric_list=[x for x in metric_list if x is not None]\n",
    "    if metric is None:\n",
    "        return avg_loss\n",
    "    else:\n",
    "        return avg_loss,np.mean(metric_list)\n"
   ]
  },
  {
   "cell_type": "code",
   "execution_count": 13,
   "id": "3ce94994",
   "metadata": {
    "execution": {
     "iopub.execute_input": "2025-01-07T18:44:49.437872Z",
     "iopub.status.busy": "2025-01-07T18:44:49.437668Z",
     "iopub.status.idle": "2025-01-07T18:44:49.442389Z",
     "shell.execute_reply": "2025-01-07T18:44:49.441792Z"
    },
    "papermill": {
     "duration": 0.009958,
     "end_time": "2025-01-07T18:44:49.443450",
     "exception": false,
     "start_time": "2025-01-07T18:44:49.433492",
     "status": "completed"
    },
    "tags": []
   },
   "outputs": [],
   "source": [
    "def fit(epochs,model,loss_func,train_dl,metric=None,opt_func=None):\n",
    "  train_losses,metrics_list=[],[]\n",
    "  opt=opt_func(model.parameters(),lr=0.001,momentum=0.9,weight_decay=1e-4, \n",
    "    nesterov=True)\n",
    "  for epoch in range(epochs):\n",
    "    model.train()\n",
    "    for xb,yb in train_loader:\n",
    "      train_loss,_,_=loss_batch(model,loss_func,xb,yb,opt)\n",
    "    train_losses.append(train_loss)\n",
    "    avg_loss,avg_metric=evaluate(model,loss_func,train_loader,metric)\n",
    "    \n",
    "    metrics_list.append(avg_metric)\n",
    "    if metric is None:\n",
    "      print('Epoch [{}/{}],train_loss:{:.4f},val_loss:{:.4f}'.format(epoch+1,epochs,train_loss,avg_loss))\n",
    "    else:\n",
    "      print('Epoch [{}/{}],train_loss:{:.4f},val_loss:{:.4f},val_metric:{:.4f}'.format(epoch+1,epochs,train_loss,avg_loss,avg_metric))\n",
    "  return train_losses,metrics_list"
   ]
  },
  {
   "cell_type": "code",
   "execution_count": 14,
   "id": "c85837d9",
   "metadata": {
    "execution": {
     "iopub.execute_input": "2025-01-07T18:44:49.451644Z",
     "iopub.status.busy": "2025-01-07T18:44:49.451413Z",
     "iopub.status.idle": "2025-01-07T18:44:49.454412Z",
     "shell.execute_reply": "2025-01-07T18:44:49.453817Z"
    },
    "papermill": {
     "duration": 0.008217,
     "end_time": "2025-01-07T18:44:49.455463",
     "exception": false,
     "start_time": "2025-01-07T18:44:49.447246",
     "status": "completed"
    },
    "tags": []
   },
   "outputs": [],
   "source": [
    "optimizer = torch.optim.SGD \n",
    "    \n",
    "loss_func=torch.nn.CrossEntropyLoss()"
   ]
  },
  {
   "cell_type": "code",
   "execution_count": 15,
   "id": "82976984",
   "metadata": {
    "execution": {
     "iopub.execute_input": "2025-01-07T18:44:49.463647Z",
     "iopub.status.busy": "2025-01-07T18:44:49.463389Z",
     "iopub.status.idle": "2025-01-07T19:30:52.140784Z",
     "shell.execute_reply": "2025-01-07T19:30:52.139673Z"
    },
    "papermill": {
     "duration": 2762.687332,
     "end_time": "2025-01-07T19:30:52.146568",
     "exception": false,
     "start_time": "2025-01-07T18:44:49.459236",
     "status": "completed"
    },
    "tags": []
   },
   "outputs": [
    {
     "name": "stdout",
     "output_type": "stream",
     "text": [
      "Epoch [1/20],train_loss:3.1195,val_loss:2.9134,val_metric:0.1972\n",
      "Epoch [2/20],train_loss:3.0917,val_loss:2.6102,val_metric:0.2725\n",
      "Epoch [3/20],train_loss:2.3693,val_loss:2.4687,val_metric:0.3042\n",
      "Epoch [4/20],train_loss:2.5944,val_loss:2.3968,val_metric:0.3238\n",
      "Epoch [5/20],train_loss:2.8330,val_loss:2.1089,val_metric:0.3893\n",
      "Epoch [6/20],train_loss:2.2052,val_loss:2.0767,val_metric:0.3943\n",
      "Epoch [7/20],train_loss:2.9264,val_loss:1.8847,val_metric:0.4444\n",
      "Epoch [8/20],train_loss:1.3003,val_loss:1.7731,val_metric:0.4781\n",
      "Epoch [9/20],train_loss:1.9658,val_loss:1.7838,val_metric:0.4745\n",
      "Epoch [10/20],train_loss:1.5893,val_loss:1.6478,val_metric:0.5044\n",
      "Epoch [11/20],train_loss:2.2887,val_loss:1.5558,val_metric:0.5398\n",
      "Epoch [12/20],train_loss:1.2828,val_loss:1.5897,val_metric:0.5232\n",
      "Epoch [13/20],train_loss:1.4163,val_loss:1.4853,val_metric:0.5492\n",
      "Epoch [14/20],train_loss:1.0948,val_loss:1.3711,val_metric:0.5839\n",
      "Epoch [15/20],train_loss:1.3768,val_loss:1.3689,val_metric:0.5859\n",
      "Epoch [16/20],train_loss:2.0055,val_loss:1.2682,val_metric:0.6085\n",
      "Epoch [17/20],train_loss:1.7138,val_loss:1.2195,val_metric:0.6282\n",
      "Epoch [18/20],train_loss:1.3880,val_loss:1.1063,val_metric:0.6590\n",
      "Epoch [19/20],train_loss:1.6320,val_loss:1.1747,val_metric:0.6457\n",
      "Epoch [20/20],train_loss:0.9437,val_loss:0.8906,val_metric:0.7174\n"
     ]
    }
   ],
   "source": [
    "losses,accuracylist=fit(20,model,loss_func,train_loader,metric=accuracy,opt_func=optimizer)"
   ]
  },
  {
   "cell_type": "code",
   "execution_count": 16,
   "id": "ac177217",
   "metadata": {
    "execution": {
     "iopub.execute_input": "2025-01-07T19:30:52.157418Z",
     "iopub.status.busy": "2025-01-07T19:30:52.157135Z",
     "iopub.status.idle": "2025-01-07T19:32:14.535308Z",
     "shell.execute_reply": "2025-01-07T19:32:14.534468Z"
    },
    "papermill": {
     "duration": 82.390112,
     "end_time": "2025-01-07T19:32:14.541627",
     "exception": false,
     "start_time": "2025-01-07T19:30:52.151515",
     "status": "completed"
    },
    "tags": []
   },
   "outputs": [
    {
     "name": "stdout",
     "output_type": "stream",
     "text": [
      "       image_id       class\n",
      "1451  00001.jpg        wolf\n",
      "2500  00002.jpg  blue+whale\n",
      "620   00003.jpg      bobcat\n",
      "356   00004.jpg    elephant\n",
      "2861  00005.jpg         cow\n"
     ]
    }
   ],
   "source": [
    "model.eval()\n",
    "test_images = [f for f in os.listdir(test_dir) if f.endswith('.jpg')]\n",
    "test_predictions = []\n",
    "\n",
    "for img_name in test_images:\n",
    "    img_path = os.path.join(test_dir, img_name)\n",
    "    image = Image.open(img_path).convert('RGB')\n",
    "    image = transform(image).unsqueeze(0).to(device)\n",
    "\n",
    "    with torch.no_grad():\n",
    "        outputs = model(image)\n",
    "        predicted_class = torch.argmax(outputs, dim=1).item()\n",
    "        test_predictions.append((img_name, train_dataset.classes[predicted_class]))\n",
    "\n",
    "# Save Predictions\n",
    "submission = pd.DataFrame(test_predictions, columns=['image_id', 'class'])\n",
    "submission=submission.sort_values('image_id')\n",
    "print(submission.head())\n",
    "submission.to_csv(\"/kaggle/working/SUBMISSIONINCEPTIONNET2nd.csv\", index=False) "
   ]
  },
  {
   "cell_type": "code",
   "execution_count": null,
   "id": "c99dd65d",
   "metadata": {
    "papermill": {
     "duration": 0.004549,
     "end_time": "2025-01-07T19:32:14.551002",
     "exception": false,
     "start_time": "2025-01-07T19:32:14.546453",
     "status": "completed"
    },
    "tags": []
   },
   "outputs": [],
   "source": []
  },
  {
   "cell_type": "code",
   "execution_count": null,
   "id": "ecd72101",
   "metadata": {
    "papermill": {
     "duration": 0.004443,
     "end_time": "2025-01-07T19:32:14.560050",
     "exception": false,
     "start_time": "2025-01-07T19:32:14.555607",
     "status": "completed"
    },
    "tags": []
   },
   "outputs": [],
   "source": []
  },
  {
   "cell_type": "code",
   "execution_count": null,
   "id": "3ab11b16",
   "metadata": {
    "papermill": {
     "duration": 0.004433,
     "end_time": "2025-01-07T19:32:14.569118",
     "exception": false,
     "start_time": "2025-01-07T19:32:14.564685",
     "status": "completed"
    },
    "tags": []
   },
   "outputs": [],
   "source": []
  },
  {
   "cell_type": "code",
   "execution_count": null,
   "id": "1e3e979a",
   "metadata": {
    "papermill": {
     "duration": 0.004439,
     "end_time": "2025-01-07T19:32:14.578217",
     "exception": false,
     "start_time": "2025-01-07T19:32:14.573778",
     "status": "completed"
    },
    "tags": []
   },
   "outputs": [],
   "source": []
  }
 ],
 "metadata": {
  "kaggle": {
   "accelerator": "gpu",
   "dataSources": [
    {
     "databundleVersionId": 10652987,
     "sourceId": 90860,
     "sourceType": "competition"
    }
   ],
   "dockerImageVersionId": 30823,
   "isGpuEnabled": true,
   "isInternetEnabled": true,
   "language": "python",
   "sourceType": "notebook"
  },
  "kernelspec": {
   "display_name": "Python 3",
   "language": "python",
   "name": "python3"
  },
  "language_info": {
   "codemirror_mode": {
    "name": "ipython",
    "version": 3
   },
   "file_extension": ".py",
   "mimetype": "text/x-python",
   "name": "python",
   "nbconvert_exporter": "python",
   "pygments_lexer": "ipython3",
   "version": "3.10.12"
  },
  "papermill": {
   "default_parameters": {},
   "duration": 2861.554652,
   "end_time": "2025-01-07T19:32:16.209147",
   "environment_variables": {},
   "exception": null,
   "input_path": "__notebook__.ipynb",
   "output_path": "__notebook__.ipynb",
   "parameters": {},
   "start_time": "2025-01-07T18:44:34.654495",
   "version": "2.6.0"
  }
 },
 "nbformat": 4,
 "nbformat_minor": 5
}
